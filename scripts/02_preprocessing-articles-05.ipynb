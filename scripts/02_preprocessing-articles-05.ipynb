{
 "cells": [
  {
   "cell_type": "markdown",
   "metadata": {},
   "source": [
    "**Notebook to pre-process the texts of articles for analysis in a separate notebook.**"
   ]
  },
  {
   "cell_type": "code",
   "execution_count": 7,
   "metadata": {
    "ExecuteTime": {
     "end_time": "2022-02-21T19:25:26.294440Z",
     "start_time": "2022-02-21T19:25:11.725969Z"
    }
   },
   "outputs": [],
   "source": [
    "import pandas as pd\n",
    "# pd.set_option('display.max_colwidth',None)\n",
    "import numpy as np\n",
    "from datetime import datetime\n",
    "\n",
    "import dateutil.parser as dparser\n",
    "#from natsort import natsorted\n",
    "import glob, os\n",
    "from tqdm.notebook import tqdm\n",
    "\n",
    "from textblob import TextBlob\n",
    "# import texthero as hero\n",
    "import spacy\n",
    "nlp = spacy.load(\"en_core_web_sm\")\n",
    "from spacy.lang.en.stop_words import STOP_WORDS\n",
    "nlp.Defaults.stop_words |= {'the','we','she','he','said','it','like'}\n",
    "import textdescriptives as td\n",
    "nlp.add_pipe('textdescriptives')\n",
    "# nlp.add_pipe(\"spacytextblob\")\n",
    "\n",
    "from collections import Counter\n",
    "import math\n",
    "\n",
    "from nltk.sentiment.vader import SentimentIntensityAnalyzer\n",
    "analyzer = SentimentIntensityAnalyzer()\n",
    "\n",
    "# keywords\n",
    "# from multi_rake import Rake\n",
    "\n",
    "import json\n",
    "import tensorflow as tf\n",
    "from tensorflow import keras\n",
    "from tensorflow.keras.preprocessing.text import Tokenizer, tokenizer_from_json\n",
    "tokenizer = Tokenizer(filters='', lower=False)\n",
    "\n",
    "from ast import literal_eval"
   ]
  },
  {
   "cell_type": "markdown",
   "metadata": {},
   "source": [
    "**1. Import and setup data**"
   ]
  },
  {
   "cell_type": "code",
   "execution_count": 2,
   "metadata": {
    "ExecuteTime": {
     "end_time": "2022-02-21T19:28:12.483583Z",
     "start_time": "2022-02-21T19:28:12.148632Z"
    }
   },
   "outputs": [
    {
     "data": {
      "text/html": [
       "<div>\n",
       "<style scoped>\n",
       "    .dataframe tbody tr th:only-of-type {\n",
       "        vertical-align: middle;\n",
       "    }\n",
       "\n",
       "    .dataframe tbody tr th {\n",
       "        vertical-align: top;\n",
       "    }\n",
       "\n",
       "    .dataframe thead th {\n",
       "        text-align: right;\n",
       "    }\n",
       "</style>\n",
       "<table border=\"1\" class=\"dataframe\">\n",
       "  <thead>\n",
       "    <tr style=\"text-align: right;\">\n",
       "      <th></th>\n",
       "      <th>Unnamed: 0</th>\n",
       "      <th>uniqueID</th>\n",
       "      <th>date</th>\n",
       "      <th>full_text</th>\n",
       "      <th>source</th>\n",
       "      <th>label</th>\n",
       "      <th>clean_text</th>\n",
       "      <th>lemmas</th>\n",
       "      <th>readability</th>\n",
       "      <th>grade_level</th>\n",
       "      <th>pos_all</th>\n",
       "      <th>entities_all</th>\n",
       "    </tr>\n",
       "  </thead>\n",
       "  <tbody>\n",
       "    <tr>\n",
       "      <th>1632</th>\n",
       "      <td>1632</td>\n",
       "      <td>https://www.kansan.com/news/douglas-county-exp...</td>\n",
       "      <td>2021-02-17</td>\n",
       "      <td>Douglas County health officials updated the co...</td>\n",
       "      <td>UDK</td>\n",
       "      <td>Douglas County expands mass gathering limit in...</td>\n",
       "      <td>douglas county health officials updated county...</td>\n",
       "      <td>douglas county health official update the coun...</td>\n",
       "      <td>58.995309</td>\n",
       "      <td>11.724359</td>\n",
       "      <td>[('Douglas', 'PROPN'), ('County', 'PROPN'), ('...</td>\n",
       "      <td>[('Douglas County', 'GPE'), ('Wednesday', 'DAT...</td>\n",
       "    </tr>\n",
       "  </tbody>\n",
       "</table>\n",
       "</div>"
      ],
      "text/plain": [
       "      Unnamed: 0                                           uniqueID  \\\n",
       "1632        1632  https://www.kansan.com/news/douglas-county-exp...   \n",
       "\n",
       "            date                                          full_text source  \\\n",
       "1632  2021-02-17  Douglas County health officials updated the co...    UDK   \n",
       "\n",
       "                                                  label  \\\n",
       "1632  Douglas County expands mass gathering limit in...   \n",
       "\n",
       "                                             clean_text  \\\n",
       "1632  douglas county health officials updated county...   \n",
       "\n",
       "                                                 lemmas  readability  \\\n",
       "1632  douglas county health official update the coun...    58.995309   \n",
       "\n",
       "      grade_level                                            pos_all  \\\n",
       "1632    11.724359  [('Douglas', 'PROPN'), ('County', 'PROPN'), ('...   \n",
       "\n",
       "                                           entities_all  \n",
       "1632  [('Douglas County', 'GPE'), ('Wednesday', 'DAT...  "
      ]
     },
     "execution_count": 2,
     "metadata": {},
     "output_type": "execute_result"
    }
   ],
   "source": [
    "# need to start with text data (will be saved as encoded later)\n",
    "csv_text = '../../data/current_articles.csv'\n",
    "# csv_text = 'test_articles_min.csv'\n",
    "\n",
    "df = pd.read_csv(csv_text)\n",
    "# df.drop('subject', axis=1, inplace=True)\n",
    "df.sample()"
   ]
  },
  {
   "cell_type": "code",
   "execution_count": 3,
   "metadata": {},
   "outputs": [],
   "source": [
    "df = df[[c for c in df.columns if c not in ['Unnamed: 0','subject']]]"
   ]
  },
  {
   "cell_type": "code",
   "execution_count": 4,
   "metadata": {
    "ExecuteTime": {
     "end_time": "2022-02-21T19:28:14.797910Z",
     "start_time": "2022-02-21T19:28:14.790364Z"
    }
   },
   "outputs": [
    {
     "data": {
      "text/plain": [
       "uniqueID        3810\n",
       "date            3810\n",
       "full_text       3810\n",
       "source          3810\n",
       "label           3810\n",
       "clean_text      3810\n",
       "lemmas          3810\n",
       "readability     3810\n",
       "grade_level     3810\n",
       "pos_all         3810\n",
       "entities_all    3810\n",
       "dtype: int64"
      ]
     },
     "execution_count": 4,
     "metadata": {},
     "output_type": "execute_result"
    }
   ],
   "source": [
    "df.count()"
   ]
  },
  {
   "cell_type": "code",
   "execution_count": 6,
   "metadata": {},
   "outputs": [
    {
     "data": {
      "text/html": [
       "<div>\n",
       "<style scoped>\n",
       "    .dataframe tbody tr th:only-of-type {\n",
       "        vertical-align: middle;\n",
       "    }\n",
       "\n",
       "    .dataframe tbody tr th {\n",
       "        vertical-align: top;\n",
       "    }\n",
       "\n",
       "    .dataframe thead th {\n",
       "        text-align: right;\n",
       "    }\n",
       "</style>\n",
       "<table border=\"1\" class=\"dataframe\">\n",
       "  <thead>\n",
       "    <tr style=\"text-align: right;\">\n",
       "      <th></th>\n",
       "      <th>url</th>\n",
       "      <th>date</th>\n",
       "      <th>full_text</th>\n",
       "      <th>source</th>\n",
       "      <th>title</th>\n",
       "      <th>clean_text</th>\n",
       "      <th>lemmas</th>\n",
       "      <th>readability</th>\n",
       "      <th>grade_level</th>\n",
       "    </tr>\n",
       "  </thead>\n",
       "  <tbody>\n",
       "    <tr>\n",
       "      <th>0</th>\n",
       "      <td>https://www2.ljworld.com/news/general-news/202...</td>\n",
       "      <td>2021-04-29</td>\n",
       "      <td>People who received only one COVID-19 vaccine ...</td>\n",
       "      <td>LJW</td>\n",
       "      <td>Health department will notify residents about ...</td>\n",
       "      <td>people received covid-19 vaccine dose douglas ...</td>\n",
       "      <td>people who receive only one covid-19 vaccine d...</td>\n",
       "      <td>70.034286</td>\n",
       "      <td>11.722857</td>\n",
       "    </tr>\n",
       "    <tr>\n",
       "      <th>1</th>\n",
       "      <td>https://www2.ljworld.com/news/general-news/202...</td>\n",
       "      <td>2021-04-28</td>\n",
       "      <td>Douglas County reported 9,194 cases of COVID-1...</td>\n",
       "      <td>LJW</td>\n",
       "      <td>Douglas County reports 13 new COVID-19 cases s...</td>\n",
       "      <td>douglas county reported 9,194 cases covid-19 w...</td>\n",
       "      <td>douglas county report 9,194 case of covid-19 a...</td>\n",
       "      <td>77.144488</td>\n",
       "      <td>7.207055</td>\n",
       "    </tr>\n",
       "    <tr>\n",
       "      <th>2</th>\n",
       "      <td>https://www2.ljworld.com/news/general-news/202...</td>\n",
       "      <td>2021-04-28</td>\n",
       "      <td>Douglas County hosted its last mass COVID-19 v...</td>\n",
       "      <td>LJW</td>\n",
       "      <td>‘Stronger together’: Douglas County hosts fina...</td>\n",
       "      <td>douglas county hosted mass covid-19 vaccinatio...</td>\n",
       "      <td>douglas county host its last mass covid-19 vac...</td>\n",
       "      <td>70.905222</td>\n",
       "      <td>10.810947</td>\n",
       "    </tr>\n",
       "    <tr>\n",
       "      <th>3</th>\n",
       "      <td>https://www2.ljworld.com/news/state-region/202...</td>\n",
       "      <td>2021-04-28</td>\n",
       "      <td>Doctors are reporting that more parents are re...</td>\n",
       "      <td>LJW</td>\n",
       "      <td>Doctors: More parents are refusing COVID tests...</td>\n",
       "      <td>doctors reporting parents refusing sick childr...</td>\n",
       "      <td>doctor be report that more parent be refuse to...</td>\n",
       "      <td>70.375453</td>\n",
       "      <td>8.939178</td>\n",
       "    </tr>\n",
       "    <tr>\n",
       "      <th>4</th>\n",
       "      <td>https://www2.ljworld.com/news/state-region/202...</td>\n",
       "      <td>2021-04-27</td>\n",
       "      <td>Fewer than five of Kansas’ 105 counties still ...</td>\n",
       "      <td>LJW</td>\n",
       "      <td>Kansas soon could have just 3 counties with ma...</td>\n",
       "      <td>fewer kansas counties require masks place long...</td>\n",
       "      <td>few than five of kansas county still require m...</td>\n",
       "      <td>68.441570</td>\n",
       "      <td>12.089564</td>\n",
       "    </tr>\n",
       "  </tbody>\n",
       "</table>\n",
       "</div>"
      ],
      "text/plain": [
       "                                                 url        date  \\\n",
       "0  https://www2.ljworld.com/news/general-news/202...  2021-04-29   \n",
       "1  https://www2.ljworld.com/news/general-news/202...  2021-04-28   \n",
       "2  https://www2.ljworld.com/news/general-news/202...  2021-04-28   \n",
       "3  https://www2.ljworld.com/news/state-region/202...  2021-04-28   \n",
       "4  https://www2.ljworld.com/news/state-region/202...  2021-04-27   \n",
       "\n",
       "                                           full_text source  \\\n",
       "0  People who received only one COVID-19 vaccine ...    LJW   \n",
       "1  Douglas County reported 9,194 cases of COVID-1...    LJW   \n",
       "2  Douglas County hosted its last mass COVID-19 v...    LJW   \n",
       "3  Doctors are reporting that more parents are re...    LJW   \n",
       "4  Fewer than five of Kansas’ 105 counties still ...    LJW   \n",
       "\n",
       "                                               title  \\\n",
       "0  Health department will notify residents about ...   \n",
       "1  Douglas County reports 13 new COVID-19 cases s...   \n",
       "2  ‘Stronger together’: Douglas County hosts fina...   \n",
       "3  Doctors: More parents are refusing COVID tests...   \n",
       "4  Kansas soon could have just 3 counties with ma...   \n",
       "\n",
       "                                          clean_text  \\\n",
       "0  people received covid-19 vaccine dose douglas ...   \n",
       "1  douglas county reported 9,194 cases covid-19 w...   \n",
       "2  douglas county hosted mass covid-19 vaccinatio...   \n",
       "3  doctors reporting parents refusing sick childr...   \n",
       "4  fewer kansas counties require masks place long...   \n",
       "\n",
       "                                              lemmas  readability  grade_level  \n",
       "0  people who receive only one covid-19 vaccine d...    70.034286    11.722857  \n",
       "1  douglas county report 9,194 case of covid-19 a...    77.144488     7.207055  \n",
       "2  douglas county host its last mass covid-19 vac...    70.905222    10.810947  \n",
       "3  doctor be report that more parent be refuse to...    70.375453     8.939178  \n",
       "4  few than five of kansas county still require m...    68.441570    12.089564  "
      ]
     },
     "execution_count": 6,
     "metadata": {},
     "output_type": "execute_result"
    }
   ],
   "source": [
    "df.head()"
   ]
  },
  {
   "cell_type": "code",
   "execution_count": null,
   "metadata": {
    "ExecuteTime": {
     "end_time": "2022-02-21T19:28:38.380636Z",
     "start_time": "2022-02-21T19:28:38.367418Z"
    }
   },
   "outputs": [],
   "source": [
    "# df = df.sample(20)"
   ]
  },
  {
   "cell_type": "markdown",
   "metadata": {},
   "source": [
    "**2. Clean text and do some preprocessing**"
   ]
  },
  {
   "cell_type": "code",
   "execution_count": 13,
   "metadata": {},
   "outputs": [],
   "source": [
    "df['pos_all'] = None\n",
    "df['entities_all'] = None"
   ]
  },
  {
   "cell_type": "code",
   "execution_count": 14,
   "metadata": {
    "ExecuteTime": {
     "end_time": "2022-02-21T19:29:03.524425Z",
     "start_time": "2022-02-21T19:28:53.397161Z"
    }
   },
   "outputs": [
    {
     "data": {
      "application/vnd.jupyter.widget-view+json": {
       "model_id": "77df4b80304a431dbc12ccd41493f067",
       "version_major": 2,
       "version_minor": 0
      },
      "text/plain": [
       "0it [00:00, ?it/s]"
      ]
     },
     "metadata": {},
     "output_type": "display_data"
    }
   ],
   "source": [
    "def clean_tok(t):\n",
    "    return t.strip().replace(\"’\",\"'\").replace(\" - \",\"\")\n",
    "\n",
    "def preprocess(df):\n",
    "    \n",
    "#     for i,r in tqdm(df[df.clean_text.isnull()].iterrows()):\n",
    "    for i,r in tqdm(df.iterrows()):\n",
    "\n",
    "        # call spaCy for cleanup and lemmas - better than textblob's method\n",
    "        doc = nlp(r['full_text'])\n",
    "\n",
    "        clean_text =  ' '.join(' '.join(\n",
    "                [w.text.lower() for w in doc if w.text.lower() not in STOP_WORDS and \\\n",
    "                 not w.is_punct and not w.is_digit and not w.is_space]).split())\n",
    "        # need to account for blank values here\n",
    "        if clean_text == '' or clean_text == None:\n",
    "            clean_text = ''\n",
    "        df.at[i,'clean_text'] = clean_text\n",
    "        df.at[i,'lemmas'] = ' '.join([w.lemma_.lower() for w in doc \\\n",
    "                if not w.is_punct and not w.is_digit and not w.is_space])\n",
    "\n",
    "        # textdescriptives to get readability score\n",
    "        df.at[i,'grade_level'] = doc._.readability['automated_readability_index']\n",
    "        df.at[i,'readability'] = doc._.readability['flesch_reading_ease']\n",
    "\n",
    "        # sentiment and Objectivity ratings from textblob\n",
    "#         df.at[i,'polarity'] = doc._.blob.polarity\n",
    "#         df.at[i,'subjectivity'] = doc._.blob.subjectivity\n",
    "\n",
    "        # pos and ner\n",
    "        df.at[i,'pos_all'] =  [(clean_tok(t.text), t.pos_) for t in doc if t.pos_ not in ['PUNCT','SPACE']]\n",
    "        df.at[i, 'entities_all'] = [(clean_tok(ent.text), ent.label_) for ent in doc.ents]\n",
    "\n",
    "    return df\n",
    "\n",
    "df = preprocess(df)"
   ]
  },
  {
   "cell_type": "code",
   "execution_count": 15,
   "metadata": {
    "ExecuteTime": {
     "end_time": "2022-02-21T19:29:03.671810Z",
     "start_time": "2022-02-21T19:29:03.659001Z"
    }
   },
   "outputs": [
    {
     "data": {
      "text/html": [
       "<div>\n",
       "<style scoped>\n",
       "    .dataframe tbody tr th:only-of-type {\n",
       "        vertical-align: middle;\n",
       "    }\n",
       "\n",
       "    .dataframe tbody tr th {\n",
       "        vertical-align: top;\n",
       "    }\n",
       "\n",
       "    .dataframe thead th {\n",
       "        text-align: right;\n",
       "    }\n",
       "</style>\n",
       "<table border=\"1\" class=\"dataframe\">\n",
       "  <thead>\n",
       "    <tr style=\"text-align: right;\">\n",
       "      <th></th>\n",
       "      <th>url</th>\n",
       "      <th>date</th>\n",
       "      <th>full_text</th>\n",
       "      <th>source</th>\n",
       "      <th>title</th>\n",
       "      <th>clean_text</th>\n",
       "      <th>lemmas</th>\n",
       "      <th>readability</th>\n",
       "      <th>grade_level</th>\n",
       "      <th>pos_all</th>\n",
       "      <th>entities_all</th>\n",
       "    </tr>\n",
       "  </thead>\n",
       "  <tbody>\n",
       "    <tr>\n",
       "      <th>1587</th>\n",
       "      <td>http://www.theindianleader.com/2020/04/13/when...</td>\n",
       "      <td>2020-04-13</td>\n",
       "      <td>Haskell Indian Nations University recently cam...</td>\n",
       "      <td>The Indian Leader</td>\n",
       "      <td>When Home Isn’t “Home”</td>\n",
       "      <td>haskell indian nations university recently cam...</td>\n",
       "      <td>haskell indian nations university recently com...</td>\n",
       "      <td>60.257391</td>\n",
       "      <td>11.793145</td>\n",
       "      <td>[(Haskell, PROPN), (Indian, PROPN), (Nations, ...</td>\n",
       "      <td>[(Haskell Indian Nations University, ORG), (we...</td>\n",
       "    </tr>\n",
       "  </tbody>\n",
       "</table>\n",
       "</div>"
      ],
      "text/plain": [
       "                                                    url        date  \\\n",
       "1587  http://www.theindianleader.com/2020/04/13/when...  2020-04-13   \n",
       "\n",
       "                                              full_text             source  \\\n",
       "1587  Haskell Indian Nations University recently cam...  The Indian Leader   \n",
       "\n",
       "                       title  \\\n",
       "1587  When Home Isn’t “Home”   \n",
       "\n",
       "                                             clean_text  \\\n",
       "1587  haskell indian nations university recently cam...   \n",
       "\n",
       "                                                 lemmas  readability  \\\n",
       "1587  haskell indian nations university recently com...    60.257391   \n",
       "\n",
       "      grade_level                                            pos_all  \\\n",
       "1587    11.793145  [(Haskell, PROPN), (Indian, PROPN), (Nations, ...   \n",
       "\n",
       "                                           entities_all  \n",
       "1587  [(Haskell Indian Nations University, ORG), (we...  "
      ]
     },
     "execution_count": 15,
     "metadata": {},
     "output_type": "execute_result"
    }
   ],
   "source": [
    "df.sample()"
   ]
  },
  {
   "cell_type": "code",
   "execution_count": 17,
   "metadata": {},
   "outputs": [
    {
     "data": {
      "text/html": [
       "<div>\n",
       "<style scoped>\n",
       "    .dataframe tbody tr th:only-of-type {\n",
       "        vertical-align: middle;\n",
       "    }\n",
       "\n",
       "    .dataframe tbody tr th {\n",
       "        vertical-align: top;\n",
       "    }\n",
       "\n",
       "    .dataframe thead th {\n",
       "        text-align: right;\n",
       "    }\n",
       "</style>\n",
       "<table border=\"1\" class=\"dataframe\">\n",
       "  <thead>\n",
       "    <tr style=\"text-align: right;\">\n",
       "      <th></th>\n",
       "      <th>uniqueID</th>\n",
       "      <th>date</th>\n",
       "      <th>full_text</th>\n",
       "      <th>source</th>\n",
       "      <th>label</th>\n",
       "      <th>clean_text</th>\n",
       "      <th>lemmas</th>\n",
       "      <th>readability</th>\n",
       "      <th>grade_level</th>\n",
       "      <th>pos_all</th>\n",
       "      <th>entities_all</th>\n",
       "    </tr>\n",
       "  </thead>\n",
       "  <tbody>\n",
       "    <tr>\n",
       "      <th>0</th>\n",
       "      <td>https://www2.ljworld.com/news/general-news/202...</td>\n",
       "      <td>2021-04-29</td>\n",
       "      <td>People who received only one COVID-19 vaccine ...</td>\n",
       "      <td>LJW</td>\n",
       "      <td>Health department will notify residents about ...</td>\n",
       "      <td>people received covid-19 vaccine dose douglas ...</td>\n",
       "      <td>people who receive only one covid-19 vaccine d...</td>\n",
       "      <td>65.771286</td>\n",
       "      <td>13.822857</td>\n",
       "      <td>[(People, NOUN), (who, PRON), (received, VERB)...</td>\n",
       "      <td>[(only one, CARDINAL), (Douglas County, GPE), ...</td>\n",
       "    </tr>\n",
       "  </tbody>\n",
       "</table>\n",
       "</div>"
      ],
      "text/plain": [
       "                                            uniqueID        date  \\\n",
       "0  https://www2.ljworld.com/news/general-news/202...  2021-04-29   \n",
       "\n",
       "                                           full_text source  \\\n",
       "0  People who received only one COVID-19 vaccine ...    LJW   \n",
       "\n",
       "                                               label  \\\n",
       "0  Health department will notify residents about ...   \n",
       "\n",
       "                                          clean_text  \\\n",
       "0  people received covid-19 vaccine dose douglas ...   \n",
       "\n",
       "                                              lemmas  readability  \\\n",
       "0  people who receive only one covid-19 vaccine d...    65.771286   \n",
       "\n",
       "   grade_level                                            pos_all  \\\n",
       "0    13.822857  [(People, NOUN), (who, PRON), (received, VERB)...   \n",
       "\n",
       "                                        entities_all  \n",
       "0  [(only one, CARDINAL), (Douglas County, GPE), ...  "
      ]
     },
     "execution_count": 17,
     "metadata": {},
     "output_type": "execute_result"
    }
   ],
   "source": [
    "df.rename(columns={'url':'uniqueID','title':'label'}, inplace=True)\n",
    "df.head(1)"
   ]
  },
  {
   "cell_type": "markdown",
   "metadata": {},
   "source": [
    "**Holding - RAKE keywords**"
   ]
  },
  {
   "cell_type": "code",
   "execution_count": null,
   "metadata": {},
   "outputs": [],
   "source": [
    "kwd_df= pd.DataFrame()\n",
    "\n",
    "# set keyword parameters\n",
    "\n",
    "for i in range(3,6):\n",
    "\n",
    "    rake = Rake(min_chars=3, max_words=5, min_freq=i)\n",
    "\n",
    "    # keywords to omit from results\n",
    "    kwd_to_omit = ['contact ku','contact reporter']\n",
    "\n",
    "    for n,g in tqdm(df.groupby(['month','source'])):\n",
    "\n",
    "        rake_df = pd.DataFrame(columns=['keyword'])\n",
    "\n",
    "        for keyword, score in (rake.apply((''.join(g.full_text)))):\n",
    "            rake_df = rake_df.append({'month':n[0], \n",
    "                                      'source':n[1], \n",
    "                                      'keyword':keyword, \n",
    "                                      'rake_score':score,\n",
    "                                      'min_freq':i}, ignore_index=True)\n",
    "\n",
    "        # filter df to exclude certain phrases\n",
    "        rake_df = rake_df[~rake_df.keyword.str.contains('|'.join(kwd_to_omit)).any(level=0)]\n",
    "\n",
    "        kwd_df = kwd_df.append(rake_df[:10], ignore_index=True)"
   ]
  },
  {
   "cell_type": "markdown",
   "metadata": {},
   "source": [
    "**3. Save text-based csv**"
   ]
  },
  {
   "cell_type": "code",
   "execution_count": 23,
   "metadata": {},
   "outputs": [],
   "source": [
    "df = df[df.date<'2022-02-01']"
   ]
  },
  {
   "cell_type": "code",
   "execution_count": 5,
   "metadata": {
    "ExecuteTime": {
     "end_time": "2022-02-14T19:21:16.319734Z",
     "start_time": "2022-02-14T19:21:15.600868Z"
    }
   },
   "outputs": [],
   "source": [
    "# df.to_csv('../data/current_articles.csv')\n",
    "df.to_csv('../../data/current_articles.csv')"
   ]
  },
  {
   "cell_type": "markdown",
   "metadata": {},
   "source": [
    "**4. Encode to numeric and save to Streamlit directory**"
   ]
  },
  {
   "cell_type": "code",
   "execution_count": 8,
   "metadata": {
    "ExecuteTime": {
     "end_time": "2022-02-14T19:21:49.966781Z",
     "start_time": "2022-02-14T19:21:40.643318Z"
    }
   },
   "outputs": [
    {
     "data": {
      "text/html": [
       "<div>\n",
       "<style scoped>\n",
       "    .dataframe tbody tr th:only-of-type {\n",
       "        vertical-align: middle;\n",
       "    }\n",
       "\n",
       "    .dataframe tbody tr th {\n",
       "        vertical-align: top;\n",
       "    }\n",
       "\n",
       "    .dataframe thead th {\n",
       "        text-align: right;\n",
       "    }\n",
       "</style>\n",
       "<table border=\"1\" class=\"dataframe\">\n",
       "  <thead>\n",
       "    <tr style=\"text-align: right;\">\n",
       "      <th></th>\n",
       "      <th>uniqueID</th>\n",
       "      <th>date</th>\n",
       "      <th>full_text</th>\n",
       "      <th>source</th>\n",
       "      <th>label</th>\n",
       "      <th>clean_text</th>\n",
       "      <th>lemmas</th>\n",
       "      <th>readability</th>\n",
       "      <th>grade_level</th>\n",
       "      <th>pos_all</th>\n",
       "      <th>entities_all</th>\n",
       "    </tr>\n",
       "  </thead>\n",
       "  <tbody>\n",
       "    <tr>\n",
       "      <th>0</th>\n",
       "      <td>https://www2.ljworld.com/news/general-news/202...</td>\n",
       "      <td>2021-04-29</td>\n",
       "      <td>[2750, 41, 337, 176, 76, 87, 63, 318, 16, 5, 1...</td>\n",
       "      <td>LJW</td>\n",
       "      <td>[249, 66, 22, 2445, 199, 47, 4535, 3763, 66696...</td>\n",
       "      <td>[19, 337, 29, 63, 318, 61, 24, 925, 188, 561, ...</td>\n",
       "      <td>[19, 41, 164, 176, 76, 29, 63, 318, 16, 5, 61,...</td>\n",
       "      <td>65.771286</td>\n",
       "      <td>13.822857</td>\n",
       "      <td>[('People', 'NOUN'), ('who', 'PRON'), ('receiv...</td>\n",
       "      <td>[('only one', 'CARDINAL'), ('Douglas County', ...</td>\n",
       "    </tr>\n",
       "    <tr>\n",
       "      <th>1</th>\n",
       "      <td>https://www2.ljworld.com/news/general-news/202...</td>\n",
       "      <td>2021-04-28</td>\n",
       "      <td>[160, 132, 196, 27408, 50, 3, 87, 15, 3, 1413,...</td>\n",
       "      <td>LJW</td>\n",
       "      <td>[160, 132, 1300, 2984, 37, 87, 50, 151, 18175,...</td>\n",
       "      <td>[61, 24, 196, 27408, 50, 29, 169, 174, 50, 152...</td>\n",
       "      <td>[61, 24, 171, 27408, 62, 3, 29, 15, 3, 169, 33...</td>\n",
       "      <td>77.144488</td>\n",
       "      <td>7.207055</td>\n",
       "      <td>[('Douglas', 'PROPN'), ('County', 'PROPN'), ('...</td>\n",
       "      <td>[('Douglas County', 'GPE'), ('9,194', 'CARDINA...</td>\n",
       "    </tr>\n",
       "    <tr>\n",
       "      <th>2</th>\n",
       "      <td>https://www2.ljworld.com/news/general-news/202...</td>\n",
       "      <td>2021-04-28</td>\n",
       "      <td>[160, 132, 1515, 84, 144, 925, 87, 188, 285, 1...</td>\n",
       "      <td>LJW</td>\n",
       "      <td>[102723, 102724, 160, 132, 4945, 737, 925, 87,...</td>\n",
       "      <td>[61, 24, 1515, 925, 29, 188, 285, 169, 479, 14...</td>\n",
       "      <td>[61, 24, 839, 84, 144, 925, 29, 188, 285, 11, ...</td>\n",
       "      <td>69.255847</td>\n",
       "      <td>11.623447</td>\n",
       "      <td>[('Douglas', 'PROPN'), ('County', 'PROPN'), ('...</td>\n",
       "      <td>[('Douglas County', 'GPE'), ('Wednesday', 'DAT...</td>\n",
       "    </tr>\n",
       "    <tr>\n",
       "      <th>3</th>\n",
       "      <td>https://www2.ljworld.com/news/state-region/202...</td>\n",
       "      <td>2021-04-28</td>\n",
       "      <td>[14420, 39, 1294, 9, 45, 634, 39, 3777, 2, 10,...</td>\n",
       "      <td>LJW</td>\n",
       "      <td>[102725, 2460, 634, 39, 3777, 1045, 489, 8, 35...</td>\n",
       "      <td>[2218, 1294, 634, 3777, 833, 317, 325, 77, 137...</td>\n",
       "      <td>[1213, 6, 171, 9, 45, 739, 6, 2312, 2, 10, 35,...</td>\n",
       "      <td>69.117276</td>\n",
       "      <td>9.558969</td>\n",
       "      <td>[('Doctors', 'NOUN'), ('are', 'AUX'), ('report...</td>\n",
       "      <td>[('Kansas City', 'GPE'), ('Overland Park', 'GP...</td>\n",
       "    </tr>\n",
       "    <tr>\n",
       "      <th>4</th>\n",
       "      <td>https://www2.ljworld.com/news/state-region/202...</td>\n",
       "      <td>2021-04-27</td>\n",
       "      <td>[18068, 85, 498, 3, 1672, 4567, 532, 167, 266,...</td>\n",
       "      <td>LJW</td>\n",
       "      <td>[64, 598, 125, 10, 116, 1777, 532, 12, 95, 575]</td>\n",
       "      <td>[1410, 21, 532, 266, 251, 179, 1201, 388, 24, ...</td>\n",
       "      <td>[469, 85, 498, 3, 21, 24, 167, 266, 95, 4, 89,...</td>\n",
       "      <td>66.986736</td>\n",
       "      <td>12.792539</td>\n",
       "      <td>[('Fewer', 'ADJ'), ('than', 'ADP'), ('five', '...</td>\n",
       "      <td>[('Fewer than five', 'CARDINAL'), ('Kansas', '...</td>\n",
       "    </tr>\n",
       "  </tbody>\n",
       "</table>\n",
       "</div>"
      ],
      "text/plain": [
       "                                            uniqueID        date  \\\n",
       "0  https://www2.ljworld.com/news/general-news/202...  2021-04-29   \n",
       "1  https://www2.ljworld.com/news/general-news/202...  2021-04-28   \n",
       "2  https://www2.ljworld.com/news/general-news/202...  2021-04-28   \n",
       "3  https://www2.ljworld.com/news/state-region/202...  2021-04-28   \n",
       "4  https://www2.ljworld.com/news/state-region/202...  2021-04-27   \n",
       "\n",
       "                                           full_text source  \\\n",
       "0  [2750, 41, 337, 176, 76, 87, 63, 318, 16, 5, 1...    LJW   \n",
       "1  [160, 132, 196, 27408, 50, 3, 87, 15, 3, 1413,...    LJW   \n",
       "2  [160, 132, 1515, 84, 144, 925, 87, 188, 285, 1...    LJW   \n",
       "3  [14420, 39, 1294, 9, 45, 634, 39, 3777, 2, 10,...    LJW   \n",
       "4  [18068, 85, 498, 3, 1672, 4567, 532, 167, 266,...    LJW   \n",
       "\n",
       "                                               label  \\\n",
       "0  [249, 66, 22, 2445, 199, 47, 4535, 3763, 66696...   \n",
       "1  [160, 132, 1300, 2984, 37, 87, 50, 151, 18175,...   \n",
       "2  [102723, 102724, 160, 132, 4945, 737, 925, 87,...   \n",
       "3  [102725, 2460, 634, 39, 3777, 1045, 489, 8, 35...   \n",
       "4    [64, 598, 125, 10, 116, 1777, 532, 12, 95, 575]   \n",
       "\n",
       "                                          clean_text  \\\n",
       "0  [19, 337, 29, 63, 318, 61, 24, 925, 188, 561, ...   \n",
       "1  [61, 24, 196, 27408, 50, 29, 169, 174, 50, 152...   \n",
       "2  [61, 24, 1515, 925, 29, 188, 285, 169, 479, 14...   \n",
       "3  [2218, 1294, 634, 3777, 833, 317, 325, 77, 137...   \n",
       "4  [1410, 21, 532, 266, 251, 179, 1201, 388, 24, ...   \n",
       "\n",
       "                                              lemmas  readability  \\\n",
       "0  [19, 41, 164, 176, 76, 29, 63, 318, 16, 5, 61,...    65.771286   \n",
       "1  [61, 24, 171, 27408, 62, 3, 29, 15, 3, 169, 33...    77.144488   \n",
       "2  [61, 24, 839, 84, 144, 925, 29, 188, 285, 11, ...    69.255847   \n",
       "3  [1213, 6, 171, 9, 45, 739, 6, 2312, 2, 10, 35,...    69.117276   \n",
       "4  [469, 85, 498, 3, 21, 24, 167, 266, 95, 4, 89,...    66.986736   \n",
       "\n",
       "   grade_level                                            pos_all  \\\n",
       "0    13.822857  [('People', 'NOUN'), ('who', 'PRON'), ('receiv...   \n",
       "1     7.207055  [('Douglas', 'PROPN'), ('County', 'PROPN'), ('...   \n",
       "2    11.623447  [('Douglas', 'PROPN'), ('County', 'PROPN'), ('...   \n",
       "3     9.558969  [('Doctors', 'NOUN'), ('are', 'AUX'), ('report...   \n",
       "4    12.792539  [('Fewer', 'ADJ'), ('than', 'ADP'), ('five', '...   \n",
       "\n",
       "                                        entities_all  \n",
       "0  [('only one', 'CARDINAL'), ('Douglas County', ...  \n",
       "1  [('Douglas County', 'GPE'), ('9,194', 'CARDINA...  \n",
       "2  [('Douglas County', 'GPE'), ('Wednesday', 'DAT...  \n",
       "3  [('Kansas City', 'GPE'), ('Overland Park', 'GP...  \n",
       "4  [('Fewer than five', 'CARDINAL'), ('Kansas', '...  "
      ]
     },
     "execution_count": 8,
     "metadata": {},
     "output_type": "execute_result"
    }
   ],
   "source": [
    "# encode for website\n",
    "# make corpus and fit\n",
    "corpus = df['full_text'].tolist() + df['clean_text'].tolist() + df['lemmas'].tolist() + df['label'].tolist()\n",
    "\n",
    "# if you need minimal version\n",
    "#df = df[['url','date','full_text','source','title']]\n",
    "#corpus = df['full_text'].tolist() + df['title'].tolist()\n",
    "\n",
    "# https://www.tensorflow.org/api_docs/python/tf/keras/preprocessing/text/Tokenizer\n",
    "tokenizer.fit_on_texts(corpus)\n",
    "\n",
    "\n",
    "# write tokenizer to json file for later re-use\n",
    "tokenizer_json = tokenizer.to_json()\n",
    "with open('../data/tokenizer.json', 'w', encoding='utf-8') as f:\n",
    "    f.write(json.dumps(tokenizer_json, ensure_ascii=False))\n",
    "\n",
    "for c in ['label','full_text','clean_text','lemmas']:\n",
    "# for c in ['title','full_text']: # again, minimal version\n",
    "    df[c] = df[c].apply(lambda x: tokenizer.texts_to_sequences([x])[0]) \n",
    "    \n",
    "\n",
    "df.to_csv('../data/current_articles.csv', index=None)\n",
    "df.head()"
   ]
  },
  {
   "cell_type": "code",
   "execution_count": null,
   "metadata": {
    "ExecuteTime": {
     "end_time": "2022-02-14T19:22:05.560684Z",
     "start_time": "2022-02-14T19:22:05.552367Z"
    }
   },
   "outputs": [],
   "source": [
    "df.count()"
   ]
  },
  {
   "cell_type": "markdown",
   "metadata": {},
   "source": [
    "**5. Update COVID case count csv**"
   ]
  },
  {
   "cell_type": "code",
   "execution_count": null,
   "metadata": {
    "ExecuteTime": {
     "end_time": "2022-02-14T19:22:29.922812Z",
     "start_time": "2022-02-14T19:22:08.067342Z"
    }
   },
   "outputs": [],
   "source": [
    "# update cases cv\n",
    "cv_data = pd.read_csv('https://raw.githubusercontent.com/nytimes/covid-19-data/master/us-counties.csv')\n",
    "cv_data.to_csv('../streamlit/data/us-counties-full.csv', index=False)\n",
    "\n",
    "cv_data = cv_data[(cv_data.county=='Douglas') & (cv_data.state=='Kansas')]\n",
    "cv_data.to_csv('../streamlit/data/us-counties-douglas-ks.csv', index=False)\n",
    "\n",
    "cv_data.head()"
   ]
  },
  {
   "cell_type": "code",
   "execution_count": null,
   "metadata": {
    "ExecuteTime": {
     "end_time": "2021-12-20T15:47:06.921805Z",
     "start_time": "2021-12-20T15:47:06.911504Z"
    }
   },
   "outputs": [],
   "source": [
    "# cv_data = pd.read_csv('../streamlit/data/us-counties-douglas-ks.csv')\n",
    "\n",
    "# cv_data['month'] = cv_data['date'].apply(lambda x: x[:7])\n",
    "# cv_data  = cv_data[(cv_data['month'] >= '2020-06') & (cv_data['month'] <= '2021-01')]\n",
    "\n",
    "# # cv_data['date'] = pd.to_datetime(cv_data['date'])\n",
    "# cv_data = cv_data.set_index('date')\n",
    "# cv_data = cv_data.resample('M')"
   ]
  },
  {
   "cell_type": "code",
   "execution_count": null,
   "metadata": {
    "ExecuteTime": {
     "end_time": "2021-12-20T15:47:08.050535Z",
     "start_time": "2021-12-20T15:47:08.046808Z"
    }
   },
   "outputs": [],
   "source": [
    "# len(cv_data)"
   ]
  },
  {
   "cell_type": "code",
   "execution_count": null,
   "metadata": {
    "ExecuteTime": {
     "end_time": "2021-12-20T15:47:25.262720Z",
     "start_time": "2021-12-20T15:47:25.258549Z"
    }
   },
   "outputs": [],
   "source": [
    "# cv_data['cases'].iloc[0]"
   ]
  },
  {
   "cell_type": "code",
   "execution_count": null,
   "metadata": {},
   "outputs": [],
   "source": []
  }
 ],
 "metadata": {
  "kernelspec": {
   "display_name": "Python 3 (ipykernel)",
   "language": "python",
   "name": "python3"
  },
  "language_info": {
   "codemirror_mode": {
    "name": "ipython",
    "version": 3
   },
   "file_extension": ".py",
   "mimetype": "text/x-python",
   "name": "python",
   "nbconvert_exporter": "python",
   "pygments_lexer": "ipython3",
   "version": "3.8.13"
  }
 },
 "nbformat": 4,
 "nbformat_minor": 4
}
